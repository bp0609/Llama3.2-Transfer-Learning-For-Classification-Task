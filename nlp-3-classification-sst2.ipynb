{
 "cells": [
  {
   "cell_type": "markdown",
   "metadata": {},
   "source": [
    "## NLP Assignment - 3\n",
    "### SST-2 Classification Task"
   ]
  },
  {
   "cell_type": "markdown",
   "metadata": {},
   "source": [
    "#### Necessary Installs"
   ]
  },
  {
   "cell_type": "code",
   "execution_count": 1,
   "metadata": {
    "execution": {
     "iopub.execute_input": "2024-11-19T15:30:16.788014Z",
     "iopub.status.busy": "2024-11-19T15:30:16.787683Z",
     "iopub.status.idle": "2024-11-19T15:30:28.564295Z",
     "shell.execute_reply": "2024-11-19T15:30:28.563228Z",
     "shell.execute_reply.started": "2024-11-19T15:30:16.787983Z"
    },
    "trusted": true
   },
   "outputs": [
    {
     "name": "stdout",
     "output_type": "stream",
     "text": [
      "Collecting evaluate\n",
      "  Downloading evaluate-0.4.3-py3-none-any.whl.metadata (9.2 kB)\n",
      "Requirement already satisfied: datasets>=2.0.0 in /opt/conda/lib/python3.10/site-packages (from evaluate) (3.0.1)\n",
      "Requirement already satisfied: numpy>=1.17 in /opt/conda/lib/python3.10/site-packages (from evaluate) (1.26.4)\n",
      "Requirement already satisfied: dill in /opt/conda/lib/python3.10/site-packages (from evaluate) (0.3.8)\n",
      "Requirement already satisfied: pandas in /opt/conda/lib/python3.10/site-packages (from evaluate) (2.2.2)\n",
      "Requirement already satisfied: requests>=2.19.0 in /opt/conda/lib/python3.10/site-packages (from evaluate) (2.32.3)\n",
      "Requirement already satisfied: tqdm>=4.62.1 in /opt/conda/lib/python3.10/site-packages (from evaluate) (4.66.4)\n",
      "Requirement already satisfied: xxhash in /opt/conda/lib/python3.10/site-packages (from evaluate) (3.4.1)\n",
      "Requirement already satisfied: multiprocess in /opt/conda/lib/python3.10/site-packages (from evaluate) (0.70.16)\n",
      "Requirement already satisfied: fsspec>=2021.05.0 in /opt/conda/lib/python3.10/site-packages (from fsspec[http]>=2021.05.0->evaluate) (2024.6.1)\n",
      "Requirement already satisfied: huggingface-hub>=0.7.0 in /opt/conda/lib/python3.10/site-packages (from evaluate) (0.25.1)\n",
      "Requirement already satisfied: packaging in /opt/conda/lib/python3.10/site-packages (from evaluate) (21.3)\n",
      "Requirement already satisfied: filelock in /opt/conda/lib/python3.10/site-packages (from datasets>=2.0.0->evaluate) (3.15.1)\n",
      "Requirement already satisfied: pyarrow>=15.0.0 in /opt/conda/lib/python3.10/site-packages (from datasets>=2.0.0->evaluate) (16.1.0)\n",
      "Requirement already satisfied: aiohttp in /opt/conda/lib/python3.10/site-packages (from datasets>=2.0.0->evaluate) (3.9.5)\n",
      "Requirement already satisfied: pyyaml>=5.1 in /opt/conda/lib/python3.10/site-packages (from datasets>=2.0.0->evaluate) (6.0.2)\n",
      "Requirement already satisfied: typing-extensions>=3.7.4.3 in /opt/conda/lib/python3.10/site-packages (from huggingface-hub>=0.7.0->evaluate) (4.12.2)\n",
      "Requirement already satisfied: pyparsing!=3.0.5,>=2.0.2 in /opt/conda/lib/python3.10/site-packages (from packaging->evaluate) (3.1.2)\n",
      "Requirement already satisfied: charset-normalizer<4,>=2 in /opt/conda/lib/python3.10/site-packages (from requests>=2.19.0->evaluate) (3.3.2)\n",
      "Requirement already satisfied: idna<4,>=2.5 in /opt/conda/lib/python3.10/site-packages (from requests>=2.19.0->evaluate) (3.7)\n",
      "Requirement already satisfied: urllib3<3,>=1.21.1 in /opt/conda/lib/python3.10/site-packages (from requests>=2.19.0->evaluate) (1.26.18)\n",
      "Requirement already satisfied: certifi>=2017.4.17 in /opt/conda/lib/python3.10/site-packages (from requests>=2.19.0->evaluate) (2024.8.30)\n",
      "Requirement already satisfied: python-dateutil>=2.8.2 in /opt/conda/lib/python3.10/site-packages (from pandas->evaluate) (2.9.0.post0)\n",
      "Requirement already satisfied: pytz>=2020.1 in /opt/conda/lib/python3.10/site-packages (from pandas->evaluate) (2024.1)\n",
      "Requirement already satisfied: tzdata>=2022.7 in /opt/conda/lib/python3.10/site-packages (from pandas->evaluate) (2024.1)\n",
      "Requirement already satisfied: aiosignal>=1.1.2 in /opt/conda/lib/python3.10/site-packages (from aiohttp->datasets>=2.0.0->evaluate) (1.3.1)\n",
      "Requirement already satisfied: attrs>=17.3.0 in /opt/conda/lib/python3.10/site-packages (from aiohttp->datasets>=2.0.0->evaluate) (23.2.0)\n",
      "Requirement already satisfied: frozenlist>=1.1.1 in /opt/conda/lib/python3.10/site-packages (from aiohttp->datasets>=2.0.0->evaluate) (1.4.1)\n",
      "Requirement already satisfied: multidict<7.0,>=4.5 in /opt/conda/lib/python3.10/site-packages (from aiohttp->datasets>=2.0.0->evaluate) (6.0.5)\n",
      "Requirement already satisfied: yarl<2.0,>=1.0 in /opt/conda/lib/python3.10/site-packages (from aiohttp->datasets>=2.0.0->evaluate) (1.9.4)\n",
      "Requirement already satisfied: async-timeout<5.0,>=4.0 in /opt/conda/lib/python3.10/site-packages (from aiohttp->datasets>=2.0.0->evaluate) (4.0.3)\n",
      "Requirement already satisfied: six>=1.5 in /opt/conda/lib/python3.10/site-packages (from python-dateutil>=2.8.2->pandas->evaluate) (1.16.0)\n",
      "Downloading evaluate-0.4.3-py3-none-any.whl (84 kB)\n",
      "\u001b[2K   \u001b[90m━━━━━━━━━━━━━━━━━━━━━━━━━━━━━━━━━━━━━━━━\u001b[0m \u001b[32m84.0/84.0 kB\u001b[0m \u001b[31m2.5 MB/s\u001b[0m eta \u001b[36m0:00:00\u001b[0m\n",
      "\u001b[?25hInstalling collected packages: evaluate\n",
      "Successfully installed evaluate-0.4.3\n"
     ]
    }
   ],
   "source": [
    "! pip install evaluate"
   ]
  },
  {
   "cell_type": "markdown",
   "metadata": {},
   "source": [
    "#### Imports"
   ]
  },
  {
   "cell_type": "code",
   "execution_count": 2,
   "metadata": {
    "_cell_guid": "b1076dfc-b9ad-4769-8c92-a6c4dae69d19",
    "_uuid": "8f2839f25d086af736a60e9eeb907d3b93b6e0e5",
    "execution": {
     "iopub.execute_input": "2024-11-19T15:30:28.566493Z",
     "iopub.status.busy": "2024-11-19T15:30:28.566184Z",
     "iopub.status.idle": "2024-11-19T15:31:01.273012Z",
     "shell.execute_reply": "2024-11-19T15:31:01.272039Z",
     "shell.execute_reply.started": "2024-11-19T15:30:28.566463Z"
    },
    "trusted": true
   },
   "outputs": [],
   "source": [
    "import numpy as np\n",
    "import pandas as pd\n",
    "import os, sys, time, torch, wandb, warnings\n",
    "\n",
    "from transformers import (TrainingArguments, Trainer, AutoTokenizer, AutoModelForSequenceClassification, DataCollatorWithPadding)\n",
    "from sklearn.metrics import accuracy_score, precision_recall_fscore_support \n",
    "\n",
    "from huggingface_hub import login\n",
    "\n",
    "from datasets import load_dataset\n",
    "from evaluate import load\n",
    "from prettytable import PrettyTable"
   ]
  },
  {
   "cell_type": "markdown",
   "metadata": {},
   "source": [
    "#### Supressing Warnings"
   ]
  },
  {
   "cell_type": "code",
   "execution_count": 3,
   "metadata": {
    "execution": {
     "iopub.execute_input": "2024-11-19T15:31:01.274732Z",
     "iopub.status.busy": "2024-11-19T15:31:01.274155Z",
     "iopub.status.idle": "2024-11-19T15:31:01.279824Z",
     "shell.execute_reply": "2024-11-19T15:31:01.278906Z",
     "shell.execute_reply.started": "2024-11-19T15:31:01.274702Z"
    },
    "trusted": true
   },
   "outputs": [
    {
     "name": "stdout",
     "output_type": "stream",
     "text": [
      "/kaggle/working\n"
     ]
    }
   ],
   "source": [
    "print(os.getcwd())\n",
    "warnings.filterwarnings(\"ignore\", category=FutureWarning)\n",
    "warnings.filterwarnings(\"ignore\", category=UserWarning)"
   ]
  },
  {
   "cell_type": "markdown",
   "metadata": {},
   "source": [
    "#### Setting up Environment Variables"
   ]
  },
  {
   "cell_type": "code",
   "execution_count": null,
   "metadata": {
    "execution": {
     "iopub.execute_input": "2024-11-19T15:31:01.282194Z",
     "iopub.status.busy": "2024-11-19T15:31:01.281937Z",
     "iopub.status.idle": "2024-11-19T15:31:01.293448Z",
     "shell.execute_reply": "2024-11-19T15:31:01.292783Z",
     "shell.execute_reply.started": "2024-11-19T15:31:01.282168Z"
    },
    "trusted": true
   },
   "outputs": [],
   "source": [
    "os.environ[\"Bpp06\"] = \"\"    # Paste your access token from github\n",
    "os.environ['CURL_CA_BUNDLE']=''"
   ]
  },
  {
   "cell_type": "markdown",
   "metadata": {},
   "source": [
    "#### Logging-in to HuggingFace"
   ]
  },
  {
   "cell_type": "code",
   "execution_count": null,
   "metadata": {
    "execution": {
     "iopub.execute_input": "2024-11-19T15:31:01.294694Z",
     "iopub.status.busy": "2024-11-19T15:31:01.294434Z",
     "iopub.status.idle": "2024-11-19T15:31:01.442556Z",
     "shell.execute_reply": "2024-11-19T15:31:01.441659Z",
     "shell.execute_reply.started": "2024-11-19T15:31:01.294669Z"
    },
    "trusted": true
   },
   "outputs": [],
   "source": [
    "login(token=os.getenv(\"Bpp06\"), add_to_git_credential=True)"
   ]
  },
  {
   "cell_type": "markdown",
   "metadata": {},
   "source": [
    "#### Model Name"
   ]
  },
  {
   "cell_type": "code",
   "execution_count": 6,
   "metadata": {
    "execution": {
     "iopub.execute_input": "2024-11-19T15:31:01.443980Z",
     "iopub.status.busy": "2024-11-19T15:31:01.443617Z",
     "iopub.status.idle": "2024-11-19T15:31:01.448393Z",
     "shell.execute_reply": "2024-11-19T15:31:01.447363Z",
     "shell.execute_reply.started": "2024-11-19T15:31:01.443951Z"
    },
    "trusted": true
   },
   "outputs": [],
   "source": [
    "model_name = \"meta-llama/Llama-3.2-1B\""
   ]
  },
  {
   "cell_type": "markdown",
   "metadata": {},
   "source": [
    "#### Defining Tokenizer"
   ]
  },
  {
   "cell_type": "code",
   "execution_count": null,
   "metadata": {
    "execution": {
     "iopub.execute_input": "2024-11-19T15:31:01.450028Z",
     "iopub.status.busy": "2024-11-19T15:31:01.449678Z",
     "iopub.status.idle": "2024-11-19T15:31:02.990731Z",
     "shell.execute_reply": "2024-11-19T15:31:02.989812Z",
     "shell.execute_reply.started": "2024-11-19T15:31:01.449965Z"
    },
    "trusted": true
   },
   "outputs": [],
   "source": [
    "tokenizer = AutoTokenizer.from_pretrained(model_name, token=os.getenv(\"Bpp06\"))\n",
    "if tokenizer.pad_token is None:\n",
    "    tokenizer.pad_token = tokenizer.eos_tokenHitesh"
   ]
  },
  {
   "cell_type": "markdown",
   "metadata": {},
   "source": [
    "#### Checking for CUDA Compatibility"
   ]
  },
  {
   "cell_type": "code",
   "execution_count": 8,
   "metadata": {
    "execution": {
     "iopub.execute_input": "2024-11-19T15:31:02.992087Z",
     "iopub.status.busy": "2024-11-19T15:31:02.991813Z",
     "iopub.status.idle": "2024-11-19T15:31:03.045061Z",
     "shell.execute_reply": "2024-11-19T15:31:03.044157Z",
     "shell.execute_reply.started": "2024-11-19T15:31:02.992061Z"
    },
    "trusted": true
   },
   "outputs": [
    {
     "name": "stdout",
     "output_type": "stream",
     "text": [
      "Using device: cuda\n"
     ]
    }
   ],
   "source": [
    "device = \"cuda\" if torch.cuda.is_available() else \"cpu\"\n",
    "print(f\"Using device: {device}\")"
   ]
  },
  {
   "cell_type": "markdown",
   "metadata": {},
   "source": [
    "#### Initializing Model"
   ]
  },
  {
   "cell_type": "code",
   "execution_count": null,
   "metadata": {
    "execution": {
     "iopub.execute_input": "2024-11-19T15:31:03.046471Z",
     "iopub.status.busy": "2024-11-19T15:31:03.046165Z",
     "iopub.status.idle": "2024-11-19T15:32:04.685831Z",
     "shell.execute_reply": "2024-11-19T15:32:04.684775Z",
     "shell.execute_reply.started": "2024-11-19T15:31:03.046443Z"
    },
    "trusted": true
   },
   "outputs": [],
   "source": [
    "sst_model = AutoModelForSequenceClassification.from_pretrained(model_name, num_labels=2)\n",
    "sst_model.config.pad_token_id = sst_model.config.eos_token_id"
   ]
  },
  {
   "cell_type": "markdown",
   "metadata": {},
   "source": [
    "#### Parameter Table"
   ]
  },
  {
   "cell_type": "code",
   "execution_count": 10,
   "metadata": {
    "execution": {
     "iopub.execute_input": "2024-11-19T15:32:04.689575Z",
     "iopub.status.busy": "2024-11-19T15:32:04.689225Z",
     "iopub.status.idle": "2024-11-19T15:32:04.694897Z",
     "shell.execute_reply": "2024-11-19T15:32:04.693979Z",
     "shell.execute_reply.started": "2024-11-19T15:32:04.689545Z"
    },
    "trusted": true
   },
   "outputs": [],
   "source": [
    "def count_parameters(model):\n",
    "    table = PrettyTable([\"Modules\", \"Parameters\"])\n",
    "    total_params = 0\n",
    "    for name, parameter in model.named_parameters():\n",
    "        if not parameter.requires_grad:\n",
    "            continue\n",
    "        params = parameter.numel()\n",
    "        table.add_row([name, params])\n",
    "        total_params += params\n",
    "    print(table)"
   ]
  },
  {
   "cell_type": "code",
   "execution_count": 11,
   "metadata": {
    "execution": {
     "iopub.execute_input": "2024-11-19T15:32:04.696199Z",
     "iopub.status.busy": "2024-11-19T15:32:04.695929Z",
     "iopub.status.idle": "2024-11-19T15:32:04.999238Z",
     "shell.execute_reply": "2024-11-19T15:32:04.998389Z",
     "shell.execute_reply.started": "2024-11-19T15:32:04.696173Z"
    },
    "trusted": true
   },
   "outputs": [
    {
     "name": "stdout",
     "output_type": "stream",
     "text": [
      "+-------------------------------------------------+------------+\n",
      "|                     Modules                     | Parameters |\n",
      "+-------------------------------------------------+------------+\n",
      "|            model.embed_tokens.weight            | 262668288  |\n",
      "|      model.layers.0.self_attn.q_proj.weight     |  4194304   |\n",
      "|      model.layers.0.self_attn.k_proj.weight     |  1048576   |\n",
      "|      model.layers.0.self_attn.v_proj.weight     |  1048576   |\n",
      "|      model.layers.0.self_attn.o_proj.weight     |  4194304   |\n",
      "|       model.layers.0.mlp.gate_proj.weight       |  16777216  |\n",
      "|        model.layers.0.mlp.up_proj.weight        |  16777216  |\n",
      "|       model.layers.0.mlp.down_proj.weight       |  16777216  |\n",
      "|      model.layers.0.input_layernorm.weight      |    2048    |\n",
      "|  model.layers.0.post_attention_layernorm.weight |    2048    |\n",
      "|      model.layers.1.self_attn.q_proj.weight     |  4194304   |\n",
      "|      model.layers.1.self_attn.k_proj.weight     |  1048576   |\n",
      "|      model.layers.1.self_attn.v_proj.weight     |  1048576   |\n",
      "|      model.layers.1.self_attn.o_proj.weight     |  4194304   |\n",
      "|       model.layers.1.mlp.gate_proj.weight       |  16777216  |\n",
      "|        model.layers.1.mlp.up_proj.weight        |  16777216  |\n",
      "|       model.layers.1.mlp.down_proj.weight       |  16777216  |\n",
      "|      model.layers.1.input_layernorm.weight      |    2048    |\n",
      "|  model.layers.1.post_attention_layernorm.weight |    2048    |\n",
      "|      model.layers.2.self_attn.q_proj.weight     |  4194304   |\n",
      "|      model.layers.2.self_attn.k_proj.weight     |  1048576   |\n",
      "|      model.layers.2.self_attn.v_proj.weight     |  1048576   |\n",
      "|      model.layers.2.self_attn.o_proj.weight     |  4194304   |\n",
      "|       model.layers.2.mlp.gate_proj.weight       |  16777216  |\n",
      "|        model.layers.2.mlp.up_proj.weight        |  16777216  |\n",
      "|       model.layers.2.mlp.down_proj.weight       |  16777216  |\n",
      "|      model.layers.2.input_layernorm.weight      |    2048    |\n",
      "|  model.layers.2.post_attention_layernorm.weight |    2048    |\n",
      "|      model.layers.3.self_attn.q_proj.weight     |  4194304   |\n",
      "|      model.layers.3.self_attn.k_proj.weight     |  1048576   |\n",
      "|      model.layers.3.self_attn.v_proj.weight     |  1048576   |\n",
      "|      model.layers.3.self_attn.o_proj.weight     |  4194304   |\n",
      "|       model.layers.3.mlp.gate_proj.weight       |  16777216  |\n",
      "|        model.layers.3.mlp.up_proj.weight        |  16777216  |\n",
      "|       model.layers.3.mlp.down_proj.weight       |  16777216  |\n",
      "|      model.layers.3.input_layernorm.weight      |    2048    |\n",
      "|  model.layers.3.post_attention_layernorm.weight |    2048    |\n",
      "|      model.layers.4.self_attn.q_proj.weight     |  4194304   |\n",
      "|      model.layers.4.self_attn.k_proj.weight     |  1048576   |\n",
      "|      model.layers.4.self_attn.v_proj.weight     |  1048576   |\n",
      "|      model.layers.4.self_attn.o_proj.weight     |  4194304   |\n",
      "|       model.layers.4.mlp.gate_proj.weight       |  16777216  |\n",
      "|        model.layers.4.mlp.up_proj.weight        |  16777216  |\n",
      "|       model.layers.4.mlp.down_proj.weight       |  16777216  |\n",
      "|      model.layers.4.input_layernorm.weight      |    2048    |\n",
      "|  model.layers.4.post_attention_layernorm.weight |    2048    |\n",
      "|      model.layers.5.self_attn.q_proj.weight     |  4194304   |\n",
      "|      model.layers.5.self_attn.k_proj.weight     |  1048576   |\n",
      "|      model.layers.5.self_attn.v_proj.weight     |  1048576   |\n",
      "|      model.layers.5.self_attn.o_proj.weight     |  4194304   |\n",
      "|       model.layers.5.mlp.gate_proj.weight       |  16777216  |\n",
      "|        model.layers.5.mlp.up_proj.weight        |  16777216  |\n",
      "|       model.layers.5.mlp.down_proj.weight       |  16777216  |\n",
      "|      model.layers.5.input_layernorm.weight      |    2048    |\n",
      "|  model.layers.5.post_attention_layernorm.weight |    2048    |\n",
      "|      model.layers.6.self_attn.q_proj.weight     |  4194304   |\n",
      "|      model.layers.6.self_attn.k_proj.weight     |  1048576   |\n",
      "|      model.layers.6.self_attn.v_proj.weight     |  1048576   |\n",
      "|      model.layers.6.self_attn.o_proj.weight     |  4194304   |\n",
      "|       model.layers.6.mlp.gate_proj.weight       |  16777216  |\n",
      "|        model.layers.6.mlp.up_proj.weight        |  16777216  |\n",
      "|       model.layers.6.mlp.down_proj.weight       |  16777216  |\n",
      "|      model.layers.6.input_layernorm.weight      |    2048    |\n",
      "|  model.layers.6.post_attention_layernorm.weight |    2048    |\n",
      "|      model.layers.7.self_attn.q_proj.weight     |  4194304   |\n",
      "|      model.layers.7.self_attn.k_proj.weight     |  1048576   |\n",
      "|      model.layers.7.self_attn.v_proj.weight     |  1048576   |\n",
      "|      model.layers.7.self_attn.o_proj.weight     |  4194304   |\n",
      "|       model.layers.7.mlp.gate_proj.weight       |  16777216  |\n",
      "|        model.layers.7.mlp.up_proj.weight        |  16777216  |\n",
      "|       model.layers.7.mlp.down_proj.weight       |  16777216  |\n",
      "|      model.layers.7.input_layernorm.weight      |    2048    |\n",
      "|  model.layers.7.post_attention_layernorm.weight |    2048    |\n",
      "|      model.layers.8.self_attn.q_proj.weight     |  4194304   |\n",
      "|      model.layers.8.self_attn.k_proj.weight     |  1048576   |\n",
      "|      model.layers.8.self_attn.v_proj.weight     |  1048576   |\n",
      "|      model.layers.8.self_attn.o_proj.weight     |  4194304   |\n",
      "|       model.layers.8.mlp.gate_proj.weight       |  16777216  |\n",
      "|        model.layers.8.mlp.up_proj.weight        |  16777216  |\n",
      "|       model.layers.8.mlp.down_proj.weight       |  16777216  |\n",
      "|      model.layers.8.input_layernorm.weight      |    2048    |\n",
      "|  model.layers.8.post_attention_layernorm.weight |    2048    |\n",
      "|      model.layers.9.self_attn.q_proj.weight     |  4194304   |\n",
      "|      model.layers.9.self_attn.k_proj.weight     |  1048576   |\n",
      "|      model.layers.9.self_attn.v_proj.weight     |  1048576   |\n",
      "|      model.layers.9.self_attn.o_proj.weight     |  4194304   |\n",
      "|       model.layers.9.mlp.gate_proj.weight       |  16777216  |\n",
      "|        model.layers.9.mlp.up_proj.weight        |  16777216  |\n",
      "|       model.layers.9.mlp.down_proj.weight       |  16777216  |\n",
      "|      model.layers.9.input_layernorm.weight      |    2048    |\n",
      "|  model.layers.9.post_attention_layernorm.weight |    2048    |\n",
      "|     model.layers.10.self_attn.q_proj.weight     |  4194304   |\n",
      "|     model.layers.10.self_attn.k_proj.weight     |  1048576   |\n",
      "|     model.layers.10.self_attn.v_proj.weight     |  1048576   |\n",
      "|     model.layers.10.self_attn.o_proj.weight     |  4194304   |\n",
      "|       model.layers.10.mlp.gate_proj.weight      |  16777216  |\n",
      "|        model.layers.10.mlp.up_proj.weight       |  16777216  |\n",
      "|       model.layers.10.mlp.down_proj.weight      |  16777216  |\n",
      "|      model.layers.10.input_layernorm.weight     |    2048    |\n",
      "| model.layers.10.post_attention_layernorm.weight |    2048    |\n",
      "|     model.layers.11.self_attn.q_proj.weight     |  4194304   |\n",
      "|     model.layers.11.self_attn.k_proj.weight     |  1048576   |\n",
      "|     model.layers.11.self_attn.v_proj.weight     |  1048576   |\n",
      "|     model.layers.11.self_attn.o_proj.weight     |  4194304   |\n",
      "|       model.layers.11.mlp.gate_proj.weight      |  16777216  |\n",
      "|        model.layers.11.mlp.up_proj.weight       |  16777216  |\n",
      "|       model.layers.11.mlp.down_proj.weight      |  16777216  |\n",
      "|      model.layers.11.input_layernorm.weight     |    2048    |\n",
      "| model.layers.11.post_attention_layernorm.weight |    2048    |\n",
      "|     model.layers.12.self_attn.q_proj.weight     |  4194304   |\n",
      "|     model.layers.12.self_attn.k_proj.weight     |  1048576   |\n",
      "|     model.layers.12.self_attn.v_proj.weight     |  1048576   |\n",
      "|     model.layers.12.self_attn.o_proj.weight     |  4194304   |\n",
      "|       model.layers.12.mlp.gate_proj.weight      |  16777216  |\n",
      "|        model.layers.12.mlp.up_proj.weight       |  16777216  |\n",
      "|       model.layers.12.mlp.down_proj.weight      |  16777216  |\n",
      "|      model.layers.12.input_layernorm.weight     |    2048    |\n",
      "| model.layers.12.post_attention_layernorm.weight |    2048    |\n",
      "|     model.layers.13.self_attn.q_proj.weight     |  4194304   |\n",
      "|     model.layers.13.self_attn.k_proj.weight     |  1048576   |\n",
      "|     model.layers.13.self_attn.v_proj.weight     |  1048576   |\n",
      "|     model.layers.13.self_attn.o_proj.weight     |  4194304   |\n",
      "|       model.layers.13.mlp.gate_proj.weight      |  16777216  |\n",
      "|        model.layers.13.mlp.up_proj.weight       |  16777216  |\n",
      "|       model.layers.13.mlp.down_proj.weight      |  16777216  |\n",
      "|      model.layers.13.input_layernorm.weight     |    2048    |\n",
      "| model.layers.13.post_attention_layernorm.weight |    2048    |\n",
      "|     model.layers.14.self_attn.q_proj.weight     |  4194304   |\n",
      "|     model.layers.14.self_attn.k_proj.weight     |  1048576   |\n",
      "|     model.layers.14.self_attn.v_proj.weight     |  1048576   |\n",
      "|     model.layers.14.self_attn.o_proj.weight     |  4194304   |\n",
      "|       model.layers.14.mlp.gate_proj.weight      |  16777216  |\n",
      "|        model.layers.14.mlp.up_proj.weight       |  16777216  |\n",
      "|       model.layers.14.mlp.down_proj.weight      |  16777216  |\n",
      "|      model.layers.14.input_layernorm.weight     |    2048    |\n",
      "| model.layers.14.post_attention_layernorm.weight |    2048    |\n",
      "|     model.layers.15.self_attn.q_proj.weight     |  4194304   |\n",
      "|     model.layers.15.self_attn.k_proj.weight     |  1048576   |\n",
      "|     model.layers.15.self_attn.v_proj.weight     |  1048576   |\n",
      "|     model.layers.15.self_attn.o_proj.weight     |  4194304   |\n",
      "|       model.layers.15.mlp.gate_proj.weight      |  16777216  |\n",
      "|        model.layers.15.mlp.up_proj.weight       |  16777216  |\n",
      "|       model.layers.15.mlp.down_proj.weight      |  16777216  |\n",
      "|      model.layers.15.input_layernorm.weight     |    2048    |\n",
      "| model.layers.15.post_attention_layernorm.weight |    2048    |\n",
      "|                model.norm.weight                |    2048    |\n",
      "|                   score.weight                  |    4096    |\n",
      "+-------------------------------------------------+------------+\n"
     ]
    }
   ],
   "source": [
    "count_parameters(sst_model)"
   ]
  },
  {
   "cell_type": "markdown",
   "metadata": {},
   "source": [
    "#### Trainable Parameters before Freezing the Base Model Parameters"
   ]
  },
  {
   "cell_type": "code",
   "execution_count": 12,
   "metadata": {
    "execution": {
     "iopub.execute_input": "2024-11-19T15:32:05.000605Z",
     "iopub.status.busy": "2024-11-19T15:32:05.000301Z",
     "iopub.status.idle": "2024-11-19T15:32:05.013675Z",
     "shell.execute_reply": "2024-11-19T15:32:05.013025Z",
     "shell.execute_reply.started": "2024-11-19T15:32:05.000578Z"
    },
    "trusted": true
   },
   "outputs": [
    {
     "name": "stdout",
     "output_type": "stream",
     "text": [
      "Parameters before freezing the base model parameters\n",
      "Total parameters: 1,235,818,496\n",
      "Trainable parameters: 1,235,818,496\n",
      "Total Base model parameters: 1,235,814,400\n"
     ]
    }
   ],
   "source": [
    "total_params = sum(p.numel() for p in sst_model.parameters())\n",
    "base_total_params = sum(p.numel() for p in sst_model.base_model.parameters())\n",
    "trainable_params = sum(p.numel() for p in sst_model.parameters() if p.requires_grad)\n",
    "\n",
    "print(\"Parameters before freezing the base model parameters\")\n",
    "\n",
    "print(f\"Total parameters: {total_params:,}\")\n",
    "print(f\"Trainable parameters: {trainable_params:,}\")\n",
    "print(f\"Total Base model parameters: {base_total_params:,}\")"
   ]
  },
  {
   "cell_type": "markdown",
   "metadata": {},
   "source": [
    "#### Freezing the parameters in the Base Language Model"
   ]
  },
  {
   "cell_type": "code",
   "execution_count": 13,
   "metadata": {
    "execution": {
     "iopub.execute_input": "2024-11-19T15:32:05.014767Z",
     "iopub.status.busy": "2024-11-19T15:32:05.014521Z",
     "iopub.status.idle": "2024-11-19T15:32:05.035109Z",
     "shell.execute_reply": "2024-11-19T15:32:05.034464Z",
     "shell.execute_reply.started": "2024-11-19T15:32:05.014743Z"
    },
    "trusted": true
   },
   "outputs": [],
   "source": [
    "for param in sst_model.base_model.parameters():\n",
    "    param.requires_grad = False"
   ]
  },
  {
   "cell_type": "markdown",
   "metadata": {},
   "source": [
    "#### Trainable Parameters after Freezing the Base Model Parameters"
   ]
  },
  {
   "cell_type": "code",
   "execution_count": 14,
   "metadata": {
    "execution": {
     "iopub.execute_input": "2024-11-19T15:32:05.036425Z",
     "iopub.status.busy": "2024-11-19T15:32:05.036095Z",
     "iopub.status.idle": "2024-11-19T15:32:05.051463Z",
     "shell.execute_reply": "2024-11-19T15:32:05.050746Z",
     "shell.execute_reply.started": "2024-11-19T15:32:05.036388Z"
    },
    "trusted": true
   },
   "outputs": [
    {
     "name": "stdout",
     "output_type": "stream",
     "text": [
      "Parameters after freezing the base model parameters\n",
      "Total parameters: 1,235,818,496\n",
      "Trainable parameters: 4,096\n",
      "Total Base model parameters: 1,235,814,400\n"
     ]
    }
   ],
   "source": [
    "total_params = sum(p.numel() for p in sst_model.parameters())\n",
    "base_total_params = sum(p.numel() for p in sst_model.base_model.parameters())\n",
    "trainable_params = sum(p.numel() for p in sst_model.parameters() if p.requires_grad)\n",
    "\n",
    "print(\"Parameters after freezing the base model parameters\")\n",
    "\n",
    "print(f\"Total parameters: {total_params:,}\")\n",
    "print(f\"Trainable parameters: {trainable_params:,}\")\n",
    "print(f\"Total Base model parameters: {base_total_params:,}\")"
   ]
  },
  {
   "cell_type": "markdown",
   "metadata": {},
   "source": [
    "#### Loading and Splitting the SST-2 Dataset"
   ]
  },
  {
   "cell_type": "code",
   "execution_count": null,
   "metadata": {
    "execution": {
     "iopub.execute_input": "2024-11-19T15:32:05.052989Z",
     "iopub.status.busy": "2024-11-19T15:32:05.052473Z",
     "iopub.status.idle": "2024-11-19T15:32:10.065695Z",
     "shell.execute_reply": "2024-11-19T15:32:10.064834Z",
     "shell.execute_reply.started": "2024-11-19T15:32:05.052952Z"
    },
    "trusted": true
   },
   "outputs": [],
   "source": [
    "sst2_dataset= load_dataset(\"glue\",\"sst2\")\n",
    "\n",
    "train_test_split = sst2_dataset[\"train\"].train_test_split(\n",
    "    test_size=0.2,\n",
    "    seed=1,\n",
    "    stratify_by_column=\"label\"\n",
    ")\n",
    "\n",
    "train_dataset = train_test_split[\"train\"]\n",
    "test_dataset = train_test_split[\"test\"]\n",
    "\n",
    "print(f\"Train dataset size: {len(train_dataset)}\")\n",
    "print(f\"Test dataset size: {len(test_dataset)}\")"
   ]
  },
  {
   "cell_type": "markdown",
   "metadata": {},
   "source": [
    "#### Preprocessing the Data"
   ]
  },
  {
   "cell_type": "code",
   "execution_count": 16,
   "metadata": {
    "execution": {
     "iopub.execute_input": "2024-11-19T15:32:10.067260Z",
     "iopub.status.busy": "2024-11-19T15:32:10.066902Z",
     "iopub.status.idle": "2024-11-19T15:32:10.072033Z",
     "shell.execute_reply": "2024-11-19T15:32:10.071168Z",
     "shell.execute_reply.started": "2024-11-19T15:32:10.067220Z"
    },
    "trusted": true
   },
   "outputs": [],
   "source": [
    "def preprocess_data(examples):\n",
    "    tokenized = tokenizer(\n",
    "        examples[\"sentence\"],\n",
    "        truncation=False,\n",
    "        return_overflowing_tokens=True,\n",
    "        max_length=128,\n",
    "        stride=64\n",
    "    )\n",
    "    return tokenized"
   ]
  },
  {
   "cell_type": "code",
   "execution_count": null,
   "metadata": {
    "execution": {
     "iopub.execute_input": "2024-11-19T15:32:10.073445Z",
     "iopub.status.busy": "2024-11-19T15:32:10.073091Z",
     "iopub.status.idle": "2024-11-19T15:32:14.619784Z",
     "shell.execute_reply": "2024-11-19T15:32:14.618904Z",
     "shell.execute_reply.started": "2024-11-19T15:32:10.073406Z"
    },
    "trusted": true
   },
   "outputs": [],
   "source": [
    "train_dataset = train_dataset.map(preprocess_data, batched=True)\n",
    "test_dataset = test_dataset.map(preprocess_data, batched=True)\n",
    "\n",
    "train_dataset.set_format(type=\"torch\", columns=[\"input_ids\", \"attention_mask\", \"label\"])\n",
    "test_dataset.set_format(type=\"torch\", columns=[\"input_ids\", \"attention_mask\", \"label\"])"
   ]
  },
  {
   "cell_type": "markdown",
   "metadata": {},
   "source": [
    "#### Training Arguments"
   ]
  },
  {
   "cell_type": "code",
   "execution_count": 18,
   "metadata": {
    "execution": {
     "iopub.execute_input": "2024-11-19T15:32:14.622005Z",
     "iopub.status.busy": "2024-11-19T15:32:14.621159Z",
     "iopub.status.idle": "2024-11-19T15:32:14.687985Z",
     "shell.execute_reply": "2024-11-19T15:32:14.687295Z",
     "shell.execute_reply.started": "2024-11-19T15:32:14.621960Z"
    },
    "trusted": true
   },
   "outputs": [],
   "source": [
    "data_collator = DataCollatorWithPadding(tokenizer=tokenizer)\n",
    "training_args = TrainingArguments(\n",
    "    output_dir=\"./results\",\n",
    "    eval_strategy=\"epoch\",\n",
    "    save_strategy=\"epoch\",\n",
    "    save_steps=500,\n",
    "    eval_steps = 500,\n",
    "    learning_rate=2e-3,\n",
    "    per_device_train_batch_size=8,\n",
    "    per_device_eval_batch_size=8,\n",
    "    gradient_accumulation_steps=4,\n",
    "    num_train_epochs=3,\n",
    "    fp16=True,  # Mixed-precision training\n",
    "    logging_dir='./logs',          # Directory for logs\n",
    "    logging_steps=10,              # Log every 10 steps\n",
    "    load_best_model_at_end=True,   # Load best model at the end of training\n",
    "    report_to=\"wandb\",  # Disable W&B if not configured\n",
    ")"
   ]
  },
  {
   "cell_type": "markdown",
   "metadata": {},
   "source": [
    "#### Evaluation Metrics"
   ]
  },
  {
   "cell_type": "code",
   "execution_count": null,
   "metadata": {
    "execution": {
     "iopub.execute_input": "2024-11-19T15:32:14.689274Z",
     "iopub.status.busy": "2024-11-19T15:32:14.689005Z",
     "iopub.status.idle": "2024-11-19T15:32:16.516716Z",
     "shell.execute_reply": "2024-11-19T15:32:16.515851Z",
     "shell.execute_reply.started": "2024-11-19T15:32:14.689249Z"
    },
    "trusted": true
   },
   "outputs": [],
   "source": [
    "accuracy = load(\"accuracy\")\n",
    "precision = load(\"precision\")\n",
    "recall = load(\"recall\")\n",
    "f1 = load(\"f1\")"
   ]
  },
  {
   "cell_type": "code",
   "execution_count": 20,
   "metadata": {
    "execution": {
     "iopub.execute_input": "2024-11-19T15:32:16.518269Z",
     "iopub.status.busy": "2024-11-19T15:32:16.517923Z",
     "iopub.status.idle": "2024-11-19T15:32:16.523733Z",
     "shell.execute_reply": "2024-11-19T15:32:16.522962Z",
     "shell.execute_reply.started": "2024-11-19T15:32:16.518231Z"
    },
    "trusted": true
   },
   "outputs": [],
   "source": [
    "def compute_metrics(eval_pred):\n",
    "    logits, labels = eval_pred\n",
    "    predictions = logits.argmax(axis=-1)\n",
    "    precision, recall, f1, _ = precision_recall_fscore_support(labels, predictions, average=\"binary\")\n",
    "    acc = accuracy_score(labels, predictions)\n",
    "    return {\n",
    "        \"accuracy\": acc,\n",
    "        \"precision\": precision,\n",
    "        \"recall\": recall,\n",
    "        \"f1\": f1,\n",
    "    }"
   ]
  },
  {
   "cell_type": "markdown",
   "metadata": {},
   "source": [
    "#### Defining the Trainer"
   ]
  },
  {
   "cell_type": "code",
   "execution_count": 21,
   "metadata": {
    "execution": {
     "iopub.execute_input": "2024-11-19T15:32:16.525131Z",
     "iopub.status.busy": "2024-11-19T15:32:16.524744Z",
     "iopub.status.idle": "2024-11-19T15:32:18.213807Z",
     "shell.execute_reply": "2024-11-19T15:32:18.212629Z",
     "shell.execute_reply.started": "2024-11-19T15:32:16.525095Z"
    },
    "trusted": true
   },
   "outputs": [],
   "source": [
    "trainer = Trainer(\n",
    "    model=sst_model,\n",
    "    args=training_args,\n",
    "    train_dataset=train_dataset,\n",
    "    eval_dataset=test_dataset,\n",
    "    data_collator=data_collator,\n",
    "    tokenizer=tokenizer,\n",
    "    compute_metrics=compute_metrics\n",
    ")"
   ]
  },
  {
   "cell_type": "markdown",
   "metadata": {},
   "source": [
    "#### Evaluating the Model before Training"
   ]
  },
  {
   "cell_type": "code",
   "execution_count": 22,
   "metadata": {
    "execution": {
     "iopub.execute_input": "2024-11-19T15:32:18.215438Z",
     "iopub.status.busy": "2024-11-19T15:32:18.215047Z",
     "iopub.status.idle": "2024-11-19T15:41:20.226708Z",
     "shell.execute_reply": "2024-11-19T15:41:20.225828Z",
     "shell.execute_reply.started": "2024-11-19T15:32:18.215395Z"
    },
    "trusted": true
   },
   "outputs": [
    {
     "data": {
      "text/html": [
       "\n",
       "    <div>\n",
       "      \n",
       "      <progress value='1684' max='842' style='width:300px; height:20px; vertical-align: middle;'></progress>\n",
       "      [842/842 1:19:38]\n",
       "    </div>\n",
       "    "
      ],
      "text/plain": [
       "<IPython.core.display.HTML object>"
      ]
     },
     "metadata": {},
     "output_type": "display_data"
    },
    {
     "name": "stderr",
     "output_type": "stream",
     "text": [
      "\u001b[34m\u001b[1mwandb\u001b[0m: \u001b[33mWARNING\u001b[0m The `run_name` is currently set to the same value as `TrainingArguments.output_dir`. If this was not intended, please specify a different run name by setting the `TrainingArguments.run_name` parameter.\n",
      "\u001b[34m\u001b[1mwandb\u001b[0m: Using wandb-core as the SDK backend. Please refer to https://wandb.me/wandb-core for more information.\n",
      "\u001b[34m\u001b[1mwandb\u001b[0m: Logging into wandb.ai. (Learn how to deploy a W&B server locally: https://wandb.me/wandb-server)\n",
      "\u001b[34m\u001b[1mwandb\u001b[0m: You can find your API key in your browser here: https://wandb.ai/authorize\n",
      "\u001b[34m\u001b[1mwandb\u001b[0m: Paste an API key from your profile and hit enter, or press ctrl+c to quit:"
     ]
    },
    {
     "name": "stdout",
     "output_type": "stream",
     "text": [
      "  ········\n"
     ]
    },
    {
     "name": "stderr",
     "output_type": "stream",
     "text": [
      "\u001b[34m\u001b[1mwandb\u001b[0m: Appending key for api.wandb.ai to your netrc file: /root/.netrc\n"
     ]
    },
    {
     "data": {
      "application/vnd.jupyter.widget-view+json": {
       "model_id": "e4cead1db1224f76a3f8c0d4481b17ef",
       "version_major": 2,
       "version_minor": 0
      },
      "text/plain": [
       "VBox(children=(Label(value='Waiting for wandb.init()...\\r'), FloatProgress(value=0.011113604244443801, max=1.0…"
      ]
     },
     "metadata": {},
     "output_type": "display_data"
    },
    {
     "data": {
      "text/html": [
       "Tracking run with wandb version 0.18.3"
      ],
      "text/plain": [
       "<IPython.core.display.HTML object>"
      ]
     },
     "metadata": {},
     "output_type": "display_data"
    },
    {
     "data": {
      "text/html": [
       "Run data is saved locally in <code>/kaggle/working/wandb/run-20241119_154116-ydo0yapd</code>"
      ],
      "text/plain": [
       "<IPython.core.display.HTML object>"
      ]
     },
     "metadata": {},
     "output_type": "display_data"
    },
    {
     "data": {
      "text/html": [
       "Syncing run <strong><a href='https://wandb.ai/hitesh007-iit-gandhinagar/huggingface/runs/ydo0yapd' target=\"_blank\">./results</a></strong> to <a href='https://wandb.ai/hitesh007-iit-gandhinagar/huggingface' target=\"_blank\">Weights & Biases</a> (<a href='https://wandb.me/run' target=\"_blank\">docs</a>)<br/>"
      ],
      "text/plain": [
       "<IPython.core.display.HTML object>"
      ]
     },
     "metadata": {},
     "output_type": "display_data"
    },
    {
     "data": {
      "text/html": [
       " View project at <a href='https://wandb.ai/hitesh007-iit-gandhinagar/huggingface' target=\"_blank\">https://wandb.ai/hitesh007-iit-gandhinagar/huggingface</a>"
      ],
      "text/plain": [
       "<IPython.core.display.HTML object>"
      ]
     },
     "metadata": {},
     "output_type": "display_data"
    },
    {
     "data": {
      "text/html": [
       " View run at <a href='https://wandb.ai/hitesh007-iit-gandhinagar/huggingface/runs/ydo0yapd' target=\"_blank\">https://wandb.ai/hitesh007-iit-gandhinagar/huggingface/runs/ydo0yapd</a>"
      ],
      "text/plain": [
       "<IPython.core.display.HTML object>"
      ]
     },
     "metadata": {},
     "output_type": "display_data"
    }
   ],
   "source": [
    "eval_results = trainer.evaluate()"
   ]
  },
  {
   "cell_type": "markdown",
   "metadata": {},
   "source": [
    "#### Evaluation Results"
   ]
  },
  {
   "cell_type": "code",
   "execution_count": 23,
   "metadata": {
    "execution": {
     "iopub.execute_input": "2024-11-19T15:41:20.227855Z",
     "iopub.status.busy": "2024-11-19T15:41:20.227638Z",
     "iopub.status.idle": "2024-11-19T15:41:20.234978Z",
     "shell.execute_reply": "2024-11-19T15:41:20.234203Z",
     "shell.execute_reply.started": "2024-11-19T15:41:20.227833Z"
    },
    "trusted": true
   },
   "outputs": [
    {
     "data": {
      "text/plain": [
       "{'eval_loss': 1.744381308555603,\n",
       " 'eval_accuracy': 0.5577579806978471,\n",
       " 'eval_precision': 0.5578423359833569,\n",
       " 'eval_recall': 0.9992014905509715,\n",
       " 'eval_f1': 0.7159681495255806,\n",
       " 'eval_runtime': 517.9621,\n",
       " 'eval_samples_per_second': 26.006,\n",
       " 'eval_steps_per_second': 1.626}"
      ]
     },
     "execution_count": 23,
     "metadata": {},
     "output_type": "execute_result"
    }
   ],
   "source": [
    "eval_results"
   ]
  },
  {
   "cell_type": "markdown",
   "metadata": {},
   "source": [
    "# Training the model"
   ]
  },
  {
   "cell_type": "code",
   "execution_count": 24,
   "metadata": {
    "execution": {
     "iopub.execute_input": "2024-11-19T15:41:20.236205Z",
     "iopub.status.busy": "2024-11-19T15:41:20.235972Z",
     "iopub.status.idle": "2024-11-19T19:13:15.313976Z",
     "shell.execute_reply": "2024-11-19T19:13:15.313067Z",
     "shell.execute_reply.started": "2024-11-19T15:41:20.236182Z"
    },
    "trusted": true
   },
   "outputs": [
    {
     "data": {
      "text/html": [
       "Finishing last run (ID:ydo0yapd) before initializing another..."
      ],
      "text/plain": [
       "<IPython.core.display.HTML object>"
      ]
     },
     "metadata": {},
     "output_type": "display_data"
    },
    {
     "data": {
      "application/vnd.jupyter.widget-view+json": {
       "model_id": "a4abca3445ff4b83990400cabbf04a15",
       "version_major": 2,
       "version_minor": 0
      },
      "text/plain": [
       "VBox(children=(Label(value='0.025 MB of 0.025 MB uploaded\\r'), FloatProgress(value=1.0, max=1.0)))"
      ]
     },
     "metadata": {},
     "output_type": "display_data"
    },
    {
     "data": {
      "text/html": [
       "<style>\n",
       "    table.wandb td:nth-child(1) { padding: 0 10px; text-align: left ; width: auto;} td:nth-child(2) {text-align: left ; width: 100%}\n",
       "    .wandb-row { display: flex; flex-direction: row; flex-wrap: wrap; justify-content: flex-start; width: 100% }\n",
       "    .wandb-col { display: flex; flex-direction: column; flex-basis: 100%; flex: 1; padding: 10px; }\n",
       "    </style>\n",
       "<div class=\"wandb-row\"><div class=\"wandb-col\"><h3>Run history:</h3><br/><table class=\"wandb\"><tr><td>eval/accuracy</td><td>▁</td></tr><tr><td>eval/f1</td><td>▁</td></tr><tr><td>eval/loss</td><td>▁</td></tr><tr><td>eval/precision</td><td>▁</td></tr><tr><td>eval/recall</td><td>▁</td></tr><tr><td>eval/runtime</td><td>▁</td></tr><tr><td>eval/samples_per_second</td><td>▁</td></tr><tr><td>eval/steps_per_second</td><td>▁</td></tr><tr><td>train/global_step</td><td>▁</td></tr></table><br/></div><div class=\"wandb-col\"><h3>Run summary:</h3><br/><table class=\"wandb\"><tr><td>eval/accuracy</td><td>0.55776</td></tr><tr><td>eval/f1</td><td>0.71597</td></tr><tr><td>eval/loss</td><td>1.74438</td></tr><tr><td>eval/precision</td><td>0.55784</td></tr><tr><td>eval/recall</td><td>0.9992</td></tr><tr><td>eval/runtime</td><td>517.9621</td></tr><tr><td>eval/samples_per_second</td><td>26.006</td></tr><tr><td>eval/steps_per_second</td><td>1.626</td></tr><tr><td>train/global_step</td><td>0</td></tr></table><br/></div></div>"
      ],
      "text/plain": [
       "<IPython.core.display.HTML object>"
      ]
     },
     "metadata": {},
     "output_type": "display_data"
    },
    {
     "data": {
      "text/html": [
       " View run <strong style=\"color:#cdcd00\">./results</strong> at: <a href='https://wandb.ai/hitesh007-iit-gandhinagar/huggingface/runs/ydo0yapd' target=\"_blank\">https://wandb.ai/hitesh007-iit-gandhinagar/huggingface/runs/ydo0yapd</a><br/> View project at: <a href='https://wandb.ai/hitesh007-iit-gandhinagar/huggingface' target=\"_blank\">https://wandb.ai/hitesh007-iit-gandhinagar/huggingface</a><br/>Synced 5 W&B file(s), 0 media file(s), 0 artifact file(s) and 0 other file(s)"
      ],
      "text/plain": [
       "<IPython.core.display.HTML object>"
      ]
     },
     "metadata": {},
     "output_type": "display_data"
    },
    {
     "data": {
      "text/html": [
       "Find logs at: <code>./wandb/run-20241119_154116-ydo0yapd/logs</code>"
      ],
      "text/plain": [
       "<IPython.core.display.HTML object>"
      ]
     },
     "metadata": {},
     "output_type": "display_data"
    },
    {
     "data": {
      "text/html": [
       "Successfully finished last run (ID:ydo0yapd). Initializing new run:<br/>"
      ],
      "text/plain": [
       "<IPython.core.display.HTML object>"
      ]
     },
     "metadata": {},
     "output_type": "display_data"
    },
    {
     "data": {
      "text/html": [
       "Tracking run with wandb version 0.18.3"
      ],
      "text/plain": [
       "<IPython.core.display.HTML object>"
      ]
     },
     "metadata": {},
     "output_type": "display_data"
    },
    {
     "data": {
      "text/html": [
       "Run data is saved locally in <code>/kaggle/working/wandb/run-20241119_154120-468k3ld6</code>"
      ],
      "text/plain": [
       "<IPython.core.display.HTML object>"
      ]
     },
     "metadata": {},
     "output_type": "display_data"
    },
    {
     "data": {
      "text/html": [
       "Syncing run <strong><a href='https://wandb.ai/hitesh007-iit-gandhinagar/huggingface/runs/468k3ld6' target=\"_blank\">llama_telugu</a></strong> to <a href='https://wandb.ai/hitesh007-iit-gandhinagar/huggingface' target=\"_blank\">Weights & Biases</a> (<a href='https://wandb.me/run' target=\"_blank\">docs</a>)<br/>"
      ],
      "text/plain": [
       "<IPython.core.display.HTML object>"
      ]
     },
     "metadata": {},
     "output_type": "display_data"
    },
    {
     "data": {
      "text/html": [
       " View project at <a href='https://wandb.ai/hitesh007-iit-gandhinagar/huggingface' target=\"_blank\">https://wandb.ai/hitesh007-iit-gandhinagar/huggingface</a>"
      ],
      "text/plain": [
       "<IPython.core.display.HTML object>"
      ]
     },
     "metadata": {},
     "output_type": "display_data"
    },
    {
     "data": {
      "text/html": [
       " View run at <a href='https://wandb.ai/hitesh007-iit-gandhinagar/huggingface/runs/468k3ld6' target=\"_blank\">https://wandb.ai/hitesh007-iit-gandhinagar/huggingface/runs/468k3ld6</a>"
      ],
      "text/plain": [
       "<IPython.core.display.HTML object>"
      ]
     },
     "metadata": {},
     "output_type": "display_data"
    },
    {
     "data": {
      "text/html": [
       "\n",
       "    <div>\n",
       "      \n",
       "      <progress value='2526' max='2526' style='width:300px; height:20px; vertical-align: middle;'></progress>\n",
       "      [2526/2526 3:31:47, Epoch 3/3]\n",
       "    </div>\n",
       "    <table border=\"1\" class=\"dataframe\">\n",
       "  <thead>\n",
       " <tr style=\"text-align: left;\">\n",
       "      <th>Epoch</th>\n",
       "      <th>Training Loss</th>\n",
       "      <th>Validation Loss</th>\n",
       "      <th>Accuracy</th>\n",
       "      <th>Precision</th>\n",
       "      <th>Recall</th>\n",
       "      <th>F1</th>\n",
       "    </tr>\n",
       "  </thead>\n",
       "  <tbody>\n",
       "    <tr>\n",
       "      <td>1</td>\n",
       "      <td>0.323700</td>\n",
       "      <td>0.302068</td>\n",
       "      <td>0.875872</td>\n",
       "      <td>0.921622</td>\n",
       "      <td>0.849747</td>\n",
       "      <td>0.884227</td>\n",
       "    </tr>\n",
       "    <tr>\n",
       "      <td>2</td>\n",
       "      <td>0.327100</td>\n",
       "      <td>0.281053</td>\n",
       "      <td>0.887528</td>\n",
       "      <td>0.917699</td>\n",
       "      <td>0.877030</td>\n",
       "      <td>0.896904</td>\n",
       "    </tr>\n",
       "    <tr>\n",
       "      <td>3</td>\n",
       "      <td>0.257100</td>\n",
       "      <td>0.258800</td>\n",
       "      <td>0.895397</td>\n",
       "      <td>0.919127</td>\n",
       "      <td>0.890870</td>\n",
       "      <td>0.904778</td>\n",
       "    </tr>\n",
       "  </tbody>\n",
       "</table><p>"
      ],
      "text/plain": [
       "<IPython.core.display.HTML object>"
      ]
     },
     "metadata": {},
     "output_type": "display_data"
    },
    {
     "data": {
      "text/plain": [
       "TrainOutput(global_step=2526, training_loss=0.36077885960928524, metrics={'train_runtime': 12712.1284, 'train_samples_per_second': 12.715, 'train_steps_per_second': 0.199, 'total_flos': 3.231502526737613e+16, 'train_loss': 0.36077885960928524, 'epoch': 3.0})"
      ]
     },
     "execution_count": 24,
     "metadata": {},
     "output_type": "execute_result"
    }
   ],
   "source": [
    "wandb.init(project=\"huggingface\", name=\"llama_telugu\")\n",
    "wandb.watch(sst_model, log=\"all\", log_freq=100)\n",
    "trainer.train()"
   ]
  },
  {
   "cell_type": "markdown",
   "metadata": {},
   "source": [
    "#### Evaluation the Model after Training"
   ]
  },
  {
   "cell_type": "code",
   "execution_count": 25,
   "metadata": {
    "execution": {
     "iopub.execute_input": "2024-11-19T19:13:15.315411Z",
     "iopub.status.busy": "2024-11-19T19:13:15.315122Z",
     "iopub.status.idle": "2024-11-19T19:25:56.649657Z",
     "shell.execute_reply": "2024-11-19T19:25:56.648582Z",
     "shell.execute_reply.started": "2024-11-19T19:13:15.315385Z"
    },
    "trusted": true
   },
   "outputs": [
    {
     "data": {
      "text/html": [
       "\n",
       "    <div>\n",
       "      \n",
       "      <progress value='842' max='842' style='width:300px; height:20px; vertical-align: middle;'></progress>\n",
       "      [842/842 12:40]\n",
       "    </div>\n",
       "    "
      ],
      "text/plain": [
       "<IPython.core.display.HTML object>"
      ]
     },
     "metadata": {},
     "output_type": "display_data"
    }
   ],
   "source": [
    "eval_results = trainer.evaluate()"
   ]
  },
  {
   "cell_type": "markdown",
   "metadata": {},
   "source": [
    "#### Evaluation Results"
   ]
  },
  {
   "cell_type": "code",
   "execution_count": 26,
   "metadata": {
    "execution": {
     "iopub.execute_input": "2024-11-19T19:25:56.652505Z",
     "iopub.status.busy": "2024-11-19T19:25:56.652114Z",
     "iopub.status.idle": "2024-11-19T19:25:56.662633Z",
     "shell.execute_reply": "2024-11-19T19:25:56.660071Z",
     "shell.execute_reply.started": "2024-11-19T19:25:56.652463Z"
    },
    "trusted": true
   },
   "outputs": [
    {
     "data": {
      "text/plain": [
       "{'eval_loss': 0.25879958271980286,\n",
       " 'eval_accuracy': 0.8953971789161099,\n",
       " 'eval_precision': 0.9191267334889469,\n",
       " 'eval_recall': 0.890870375299441,\n",
       " 'eval_f1': 0.9047779955396364,\n",
       " 'eval_runtime': 761.3259,\n",
       " 'eval_samples_per_second': 17.693,\n",
       " 'eval_steps_per_second': 1.106,\n",
       " 'epoch': 3.0}"
      ]
     },
     "execution_count": 26,
     "metadata": {},
     "output_type": "execute_result"
    }
   ],
   "source": [
    "eval_results"
   ]
  },
  {
   "cell_type": "markdown",
   "metadata": {},
   "source": [
    "#### Pushing the Model to HuggingFace"
   ]
  },
  {
   "cell_type": "code",
   "execution_count": 28,
   "metadata": {
    "execution": {
     "iopub.execute_input": "2024-11-19T19:29:44.954470Z",
     "iopub.status.busy": "2024-11-19T19:29:44.954099Z",
     "iopub.status.idle": "2024-11-19T19:32:15.968118Z",
     "shell.execute_reply": "2024-11-19T19:32:15.967251Z",
     "shell.execute_reply.started": "2024-11-19T19:29:44.954440Z"
    },
    "trusted": true
   },
   "outputs": [
    {
     "data": {
      "application/vnd.jupyter.widget-view+json": {
       "model_id": "26ddc2dc661a4d038c234d32599b9657",
       "version_major": 2,
       "version_minor": 0
      },
      "text/plain": [
       "model.safetensors:   0%|          | 0.00/4.94G [00:00<?, ?B/s]"
      ]
     },
     "metadata": {},
     "output_type": "display_data"
    },
    {
     "data": {
      "text/plain": [
       "CommitInfo(commit_url='https://huggingface.co/bp03/Classification_SST2_Llama_3.2_1B_Model/commit/a5791fbb9a37dafc92308c505068c2276446b62a', commit_message='Upload LlamaForSequenceClassification', commit_description='', oid='a5791fbb9a37dafc92308c505068c2276446b62a', pr_url=None, repo_url=RepoUrl('https://huggingface.co/bp03/Classification_SST2_Llama_3.2_1B_Model', endpoint='https://huggingface.co', repo_type='model', repo_id='bp03/Classification_SST2_Llama_3.2_1B_Model'), pr_revision=None, pr_num=None)"
      ]
     },
     "execution_count": 28,
     "metadata": {},
     "output_type": "execute_result"
    }
   ],
   "source": [
    "sst_model.push_to_hub(\"bp03/Classification_SST2_Llama_3.2_1B_Model\")"
   ]
  },
  {
   "cell_type": "code",
   "execution_count": null,
   "metadata": {
    "trusted": true
   },
   "outputs": [],
   "source": []
  }
 ],
 "metadata": {
  "kaggle": {
   "accelerator": "nvidiaTeslaT4",
   "dataSources": [],
   "dockerImageVersionId": 30786,
   "isGpuEnabled": true,
   "isInternetEnabled": true,
   "language": "python",
   "sourceType": "notebook"
  },
  "kernelspec": {
   "display_name": "Python 3",
   "language": "python",
   "name": "python3"
  },
  "language_info": {
   "codemirror_mode": {
    "name": "ipython",
    "version": 3
   },
   "file_extension": ".py",
   "mimetype": "text/x-python",
   "name": "python",
   "nbconvert_exporter": "python",
   "pygments_lexer": "ipython3",
   "version": "3.10.14"
  }
 },
 "nbformat": 4,
 "nbformat_minor": 4
}
